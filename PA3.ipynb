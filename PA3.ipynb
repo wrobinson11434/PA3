{
 "cells": [
  {
   "cell_type": "markdown",
   "id": "5debf91f",
   "metadata": {},
   "source": [
    "## Programming Assignment 3 \n",
    "* Will Robinson \n",
    "* 9-25-2021\n",
    "* CS-150-01"
   ]
  },
  {
   "cell_type": "code",
   "execution_count": 53,
   "id": "8437a808",
   "metadata": {},
   "outputs": [
    {
     "name": "stdout",
     "output_type": "stream",
     "text": [
      "Enter the length of side A: 5\n",
      "Enter the length of side B: 5\n",
      "Enter the length of side C: 5\n",
      "Area of triangle is  10.825317547305483\n",
      "perimeter of triangle is:  15.0\n"
     ]
    }
   ],
   "source": [
    "A = float(input('Enter the length of side A: '))\n",
    "B = float(input('Enter the length of side B: '))\n",
    "C = float(input('Enter the length of side C: '))\n",
    "S = (A + B + C) / 2\n",
    "\n",
    "def calcArea(S):\n",
    "    return (S * (S - A) * (S - B) * (S - C)) ** 0.5\n",
    "def calcPerimeter():\n",
    "    return A+B+C\n",
    "    \n",
    "print('Area of triangle is ', calcArea(S))\n",
    "print(\"perimeter of triangle is: \", calcPerimeter())"
   ]
  },
  {
   "cell_type": "code",
   "execution_count": 52,
   "id": "440dc123",
   "metadata": {},
   "outputs": [
    {
     "name": "stdout",
     "output_type": "stream",
     "text": [
      "Enter the length of side A: 12\n",
      "Enter the length of side B: 16\n",
      "Enter the length of side C: 21\n",
      "Area of triangle is  95.4512310030625\n",
      "perimeter of triangle is:  49.0\n"
     ]
    }
   ],
   "source": [
    "A = float(input('Enter the length of side A: '))\n",
    "B = float(input('Enter the length of side B: '))\n",
    "C = float(input('Enter the length of side C: '))\n",
    "S = (A + B + C) / 2\n",
    "\n",
    "def calcArea(S):\n",
    "    return (S * (S - A) * (S - B) * (S - C)) ** 0.5\n",
    "def calcPerimeter():\n",
    "    return A+B+C\n",
    "    \n",
    "print('Area of triangle is ', calcArea(S))\n",
    "print(\"perimeter of triangle is: \", calcPerimeter())"
   ]
  },
  {
   "cell_type": "code",
   "execution_count": 59,
   "id": "8e515bd9",
   "metadata": {},
   "outputs": [
    {
     "name": "stdout",
     "output_type": "stream",
     "text": [
      "Area of triangle is  0.4330127018922193\n",
      "perimeter of triangle is:  3\n"
     ]
    }
   ],
   "source": [
    "A = 1\n",
    "B = 1\n",
    "C = 1\n",
    "S = (A + B + C) / 2\n",
    "\n",
    "def calcArea(S):\n",
    "    return (S * (S - A) * (S - B) * (S - C)) ** 0.5\n",
    "def calcPerimeter():\n",
    "    return A+B+C\n",
    "    \n",
    "print('Area of triangle is ', calcArea(S))\n",
    "print(\"perimeter of triangle is: \", calcPerimeter())"
   ]
  },
  {
   "cell_type": "code",
   "execution_count": 60,
   "id": "e14e87cf",
   "metadata": {},
   "outputs": [
    {
     "name": "stdout",
     "output_type": "stream",
     "text": [
      "Enter your guess: 900\n",
      "Too low! Guess again\n",
      "Enter your guess: 950\n",
      "Too low! Guess again\n",
      "Enter your guess: 960\n",
      "Too high! Guess again\n",
      "Enter your guess: 955\n",
      "Too low! Guess again\n",
      "Enter your guess: 956\n",
      "Correct\n"
     ]
    }
   ],
   "source": [
    "import random\n",
    "number=random.randint(1,1000)\n",
    "guess_number=None\n",
    "\n",
    "while guess_number!=number:\n",
    "    guess_number=int(input(\"Enter your guess: \"))\n",
    "    if guess_number==number:\n",
    "        print(\"Correct\")\n",
    "        break\n",
    "    elif guess_number>number:\n",
    "        print(\"Too high! Guess again\")\n",
    "    else:\n",
    "        print(\"Too low! Guess again\")"
   ]
  },
  {
   "cell_type": "code",
   "execution_count": 105,
   "id": "96db6818",
   "metadata": {},
   "outputs": [
    {
     "name": "stdout",
     "output_type": "stream",
     "text": [
      "The mean temperature over the past 7 days is  40.0 degress F\n",
      "The mean temperature over the past 5 days is  30.0 degress F\n",
      "The mean temperature over the past 2 days is  15.0 degress F\n"
     ]
    }
   ],
   "source": [
    "def meanTemp(*args):\n",
    "    return sum(args)/len(args)\n",
    "temperatures=[10,20,30,40,50,60,70,80]\n",
    "print(\"The mean temperature over the past 7 days is \", meanTemp(*temperatures[:7]), \"degress F\")\n",
    "print(\"The mean temperature over the past 5 days is \", meanTemp(*temperatures[:5]), \"degress F\")\n",
    "print(\"The mean temperature over the past 2 days is \", meanTemp(*temperatures[:2]), \"degress F\")"
   ]
  }
 ],
 "metadata": {
  "kernelspec": {
   "display_name": "Python 3",
   "language": "python",
   "name": "python3"
  },
  "language_info": {
   "codemirror_mode": {
    "name": "ipython",
    "version": 3
   },
   "file_extension": ".py",
   "mimetype": "text/x-python",
   "name": "python",
   "nbconvert_exporter": "python",
   "pygments_lexer": "ipython3",
   "version": "3.8.8"
  }
 },
 "nbformat": 4,
 "nbformat_minor": 5
}
